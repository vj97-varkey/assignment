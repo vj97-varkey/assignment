{
 "cells": [
  {
   "cell_type": "code",
   "execution_count": 1,
   "id": "560f6025-f811-45e1-9fb4-f870751a01d0",
   "metadata": {},
   "outputs": [
    {
     "name": "stdout",
     "output_type": "stream",
     "text": [
      "Collecting openpyxl\n",
      "  Downloading openpyxl-3.1.5-py2.py3-none-any.whl.metadata (2.5 kB)\n",
      "Collecting et-xmlfile (from openpyxl)\n",
      "  Downloading et_xmlfile-1.1.0-py3-none-any.whl.metadata (1.8 kB)\n",
      "Downloading openpyxl-3.1.5-py2.py3-none-any.whl (250 kB)\n",
      "   ---------------------------------------- 0.0/250.9 kB ? eta -:--:--\n",
      "   - -------------------------------------- 10.2/250.9 kB ? eta -:--:--\n",
      "   ---- ---------------------------------- 30.7/250.9 kB 660.6 kB/s eta 0:00:01\n",
      "   --------- ----------------------------- 61.4/250.9 kB 550.5 kB/s eta 0:00:01\n",
      "   -------------- ------------------------ 92.2/250.9 kB 655.4 kB/s eta 0:00:01\n",
      "   -------------------------- ----------- 174.1/250.9 kB 876.1 kB/s eta 0:00:01\n",
      "   -------------------------------------  245.8/250.9 kB 942.1 kB/s eta 0:00:01\n",
      "   -------------------------------------- 250.9/250.9 kB 810.3 kB/s eta 0:00:00\n",
      "Downloading et_xmlfile-1.1.0-py3-none-any.whl (4.7 kB)\n",
      "Installing collected packages: et-xmlfile, openpyxl\n",
      "Successfully installed et-xmlfile-1.1.0 openpyxl-3.1.5\n"
     ]
    },
    {
     "name": "stderr",
     "output_type": "stream",
     "text": [
      "\n",
      "[notice] A new release of pip is available: 24.0 -> 24.1.2\n",
      "[notice] To update, run: python.exe -m pip install --upgrade pip\n"
     ]
    }
   ],
   "source": [
    "!pip install openpyxl\n"
   ]
  },
  {
   "cell_type": "code",
   "execution_count": 6,
   "id": "89ccbf64-f1d7-4e93-8108-6c8c719e4d5c",
   "metadata": {},
   "outputs": [
    {
     "name": "stdout",
     "output_type": "stream",
     "text": [
      "            Name            Team  Number Position  Age               Height  \\\n",
      "0  Avery Bradley  Boston Celtics       0       PG   25  2023-02-06 00:00:00   \n",
      "1    Jae Crowder  Boston Celtics      99       SF   25  2023-06-06 00:00:00   \n",
      "2   John Holland  Boston Celtics      30       SG   27  2023-05-06 00:00:00   \n",
      "3    R.J. Hunter  Boston Celtics      28       SG   22  2023-05-06 00:00:00   \n",
      "4  Jonas Jerebko  Boston Celtics       8       PF   29  2023-10-06 00:00:00   \n",
      "\n",
      "   Weight            College     Salary  \n",
      "0     180              Texas  7730337.0  \n",
      "1     235          Marquette  6796117.0  \n",
      "2     205  Boston University        NaN  \n",
      "3     185      Georgia State  1148640.0  \n",
      "4     231                NaN  5000000.0  \n",
      "             Name       Team  Number Position  Age               Height  \\\n",
      "453  Shelvin Mack  Utah Jazz       8       PG   26  2023-03-06 00:00:00   \n",
      "454     Raul Neto  Utah Jazz      25       PG   24  2023-01-06 00:00:00   \n",
      "455  Tibor Pleiss  Utah Jazz      21        C   26  2023-03-07 00:00:00   \n",
      "456   Jeff Withey  Utah Jazz      24        C   26                  7-0   \n",
      "457      Priyanka  Utah Jazz      34        C   25  2023-03-07 00:00:00   \n",
      "\n",
      "     Weight College     Salary  \n",
      "453     203  Butler  2433333.0  \n",
      "454     179     NaN   900000.0  \n",
      "455     256     NaN  2900000.0  \n",
      "456     231  Kansas   947276.0  \n",
      "457     231  Kansas   947276.0  \n"
     ]
    }
   ],
   "source": [
    "import pandas as pd\n",
    "\n",
    "\n",
    "# Read the Excel file\n",
    "df = pd.read_excel(r'myexcel.xlsx')\n",
    "\n",
    "# Display the DataFrame\n",
    "print(df.head())\n",
    "\n",
    "print(df.tail())\n"
   ]
  },
  {
   "cell_type": "code",
   "execution_count": 6,
   "id": "eb867f02-fc02-4c53-9a53-e19a46b19ac0",
   "metadata": {},
   "outputs": [],
   "source": [
    "import pandas as pd\n",
    "\n",
    "# Load the dataset\n",
    "df = pd.read_excel(r'myexcel.xlsx')\n",
    "\n",
    "# Convert 'age' column to integer type for easier manipulation\n",
    "df['age'] = df['Age'].astype(int)\n"
   ]
  },
  {
   "cell_type": "code",
   "execution_count": 5,
   "id": "e28fc4ae-c4f8-44f0-9996-5e618c6eb9ca",
   "metadata": {},
   "outputs": [
    {
     "name": "stdout",
     "output_type": "stream",
     "text": [
      "Team Distribution:\n",
      " Team\n",
      "New Orleans Pelicans      19\n",
      "Memphis Grizzlies         18\n",
      "Utah Jazz                 16\n",
      "New York Knicks           16\n",
      "Milwaukee Bucks           16\n",
      "Brooklyn Nets             15\n",
      "Portland Trail Blazers    15\n",
      "Oklahoma City Thunder     15\n",
      "Denver Nuggets            15\n",
      "Washington Wizards        15\n",
      "Miami Heat                15\n",
      "Charlotte Hornets         15\n",
      "Atlanta Hawks             15\n",
      "San Antonio Spurs         15\n",
      "Houston Rockets           15\n",
      "Boston Celtics            15\n",
      "Indiana Pacers            15\n",
      "Detroit Pistons           15\n",
      "Cleveland Cavaliers       15\n",
      "Chicago Bulls             15\n",
      "Sacramento Kings          15\n",
      "Phoenix Suns              15\n",
      "Los Angeles Lakers        15\n",
      "Los Angeles Clippers      15\n",
      "Golden State Warriors     15\n",
      "Toronto Raptors           15\n",
      "Philadelphia 76ers        15\n",
      "Dallas Mavericks          15\n",
      "Orlando Magic             14\n",
      "Minnesota Timberwolves    14\n",
      "Name: count, dtype: int64\n",
      "\n",
      "Percentage Split:\n",
      " Team\n",
      "New Orleans Pelicans      4.148472\n",
      "Memphis Grizzlies         3.930131\n",
      "Utah Jazz                 3.493450\n",
      "New York Knicks           3.493450\n",
      "Milwaukee Bucks           3.493450\n",
      "Brooklyn Nets             3.275109\n",
      "Portland Trail Blazers    3.275109\n",
      "Oklahoma City Thunder     3.275109\n",
      "Denver Nuggets            3.275109\n",
      "Washington Wizards        3.275109\n",
      "Miami Heat                3.275109\n",
      "Charlotte Hornets         3.275109\n",
      "Atlanta Hawks             3.275109\n",
      "San Antonio Spurs         3.275109\n",
      "Houston Rockets           3.275109\n",
      "Boston Celtics            3.275109\n",
      "Indiana Pacers            3.275109\n",
      "Detroit Pistons           3.275109\n",
      "Cleveland Cavaliers       3.275109\n",
      "Chicago Bulls             3.275109\n",
      "Sacramento Kings          3.275109\n",
      "Phoenix Suns              3.275109\n",
      "Los Angeles Lakers        3.275109\n",
      "Los Angeles Clippers      3.275109\n",
      "Golden State Warriors     3.275109\n",
      "Toronto Raptors           3.275109\n",
      "Philadelphia 76ers        3.275109\n",
      "Dallas Mavericks          3.275109\n",
      "Orlando Magic             3.056769\n",
      "Minnesota Timberwolves    3.056769\n",
      "Name: count, dtype: float64\n"
     ]
    }
   ],
   "source": [
    "# Calculate the distribution of employees across teams\n",
    "team_distribution = df['Team'].value_counts()\n",
    "\n",
    "# Calculate the percentage split\n",
    "percentage_split = (df['Team'].value_counts() / len(df)) * 100\n",
    "\n",
    "print(\"Team Distribution:\\n\", team_distribution)\n",
    "print(\"\\nPercentage Split:\\n\", percentage_split)\n"
   ]
  },
  {
   "cell_type": "code",
   "execution_count": 13,
   "id": "f29d8f5a-b813-402c-a7dd-a9ea3d4d8f5f",
   "metadata": {},
   "outputs": [
    {
     "name": "stdout",
     "output_type": "stream",
     "text": [
      "\n",
      "Position Count:\n",
      " Position\n",
      "SG    102\n",
      "PF    100\n",
      "PG     92\n",
      "SF     85\n",
      "C      79\n",
      "Name: count, dtype: int64\n"
     ]
    }
   ],
   "source": [
    "# Count occurrences of each position\n",
    "position_count = df['Position'].value_counts()\n",
    "\n",
    "print(\"\\nPosition Count:\\n\", position_count)\n"
   ]
  },
  {
   "cell_type": "code",
   "execution_count": 6,
   "id": "f01622a7-62c4-4090-879b-4fd7fed281d2",
   "metadata": {},
   "outputs": [
    {
     "name": "stdout",
     "output_type": "stream",
     "text": [
      "\n",
      "Age Group Count:\n",
      " Age\n",
      "18-34    4\n",
      "35-49    4\n",
      "50-64    2\n",
      "0-17     0\n",
      "Name: count, dtype: int64\n"
     ]
    }
   ],
   "source": [
    "import pandas as pd\n",
    "\n",
    "# Sample DataFrame creation (replace this with your actual DataFrame loading)\n",
    "data = {'Age': [25, 45, 37, 29, 52, 31, 44, 55, 27, 38]}\n",
    "df = pd.DataFrame(data)\n",
    "\n",
    "# Create bins for age groups\n",
    "bins = [0, 18, 35, 50, df['Age'].max()]\n",
    "labels = ['0-17', '18-34', '35-49', '50-64']\n",
    "\n",
    "# Assign age groups\n",
    "df['Age'] = pd.cut(df['Age'], bins=bins, labels=labels, include_lowest=True)\n",
    "\n",
    "# Count occurrences of each age group\n",
    "age_group_count = df['Age'].value_counts()\n",
    "\n",
    "print(\"\\nAge Group Count:\\n\", age_group_count)"
   ]
  },
  {
   "cell_type": "code",
   "execution_count": 16,
   "id": "05ae4a39-3c2a-4985-ae95-c4ada839b91b",
   "metadata": {},
   "outputs": [
    {
     "name": "stdout",
     "output_type": "stream",
     "text": [
      "\n",
      "Total Salary Per Team:\n",
      " Team\n",
      "Atlanta Hawks              72902950.0\n",
      "Boston Celtics             58541068.0\n",
      "Brooklyn Nets              52528475.0\n",
      "Charlotte Hornets          78340920.0\n",
      "Chicago Bulls              86783378.0\n",
      "Cleveland Cavaliers       106988689.0\n",
      "Dallas Mavericks           71198732.0\n",
      "Denver Nuggets             60121930.0\n",
      "Detroit Pistons            67168263.0\n",
      "Golden State Warriors      88868997.0\n",
      "Houston Rockets            75283021.0\n",
      "Indiana Pacers             66751826.0\n",
      "Los Angeles Clippers       94854640.0\n",
      "Los Angeles Lakers         71770431.0\n",
      "Memphis Grizzlies          76550880.0\n",
      "Miami Heat                 82515673.0\n",
      "Milwaukee Bucks            69603517.0\n",
      "Minnesota Timberwolves     59709697.0\n",
      "New Orleans Pelicans       82750774.0\n",
      "New York Knicks            73303898.0\n",
      "Oklahoma City Thunder      93765298.0\n",
      "Orlando Magic              60161470.0\n",
      "Philadelphia 76ers         30992894.0\n",
      "Phoenix Suns               63445135.0\n",
      "Portland Trail Blazers     48301818.0\n",
      "Sacramento Kings           71683666.0\n",
      "San Antonio Spurs          84442733.0\n",
      "Toronto Raptors            71117611.0\n",
      "Utah Jazz                  64007367.0\n",
      "Washington Wizards         76328636.0\n",
      "Name: Salary, dtype: float64\n",
      "\n",
      "Total Salary Per Position:\n",
      " Position\n",
      "C     466377332.0\n",
      "PF    442560850.0\n",
      "PG    446848971.0\n",
      "SF    408020976.0\n",
      "SG    396976258.0\n",
      "Name: Salary, dtype: float64\n"
     ]
    }
   ],
   "source": [
    "# Sum salaries per team and position\n",
    "salary_per_team = df.groupby('Team')['Salary'].sum()\n",
    "salary_per_position = df.groupby('Position')['Salary'].sum()\n",
    "\n",
    "print(\"\\nTotal Salary Per Team:\\n\", salary_per_team)\n",
    "print(\"\\nTotal Salary Per Position:\\n\", salary_per_position)\n"
   ]
  },
  {
   "cell_type": "code",
   "execution_count": 18,
   "id": "e34df629-700f-4e05-890e-8bf917d76947",
   "metadata": {},
   "outputs": [
    {
     "name": "stdout",
     "output_type": "stream",
     "text": [
      "Collecting seaborn\n",
      "  Downloading seaborn-0.13.2-py3-none-any.whl.metadata (5.4 kB)\n",
      "Requirement already satisfied: numpy!=1.24.0,>=1.20 in c:\\users\\varkey joshy t\\appdata\\local\\programs\\python\\python312\\lib\\site-packages (from seaborn) (1.26.4)\n",
      "Requirement already satisfied: pandas>=1.2 in c:\\users\\varkey joshy t\\appdata\\local\\programs\\python\\python312\\lib\\site-packages (from seaborn) (2.2.1)\n",
      "Requirement already satisfied: matplotlib!=3.6.1,>=3.4 in c:\\users\\varkey joshy t\\appdata\\local\\programs\\python\\python312\\lib\\site-packages (from seaborn) (3.9.0)\n",
      "Requirement already satisfied: contourpy>=1.0.1 in c:\\users\\varkey joshy t\\appdata\\local\\programs\\python\\python312\\lib\\site-packages (from matplotlib!=3.6.1,>=3.4->seaborn) (1.2.1)\n",
      "Requirement already satisfied: cycler>=0.10 in c:\\users\\varkey joshy t\\appdata\\local\\programs\\python\\python312\\lib\\site-packages (from matplotlib!=3.6.1,>=3.4->seaborn) (0.12.1)\n",
      "Requirement already satisfied: fonttools>=4.22.0 in c:\\users\\varkey joshy t\\appdata\\local\\programs\\python\\python312\\lib\\site-packages (from matplotlib!=3.6.1,>=3.4->seaborn) (4.53.0)\n",
      "Requirement already satisfied: kiwisolver>=1.3.1 in c:\\users\\varkey joshy t\\appdata\\local\\programs\\python\\python312\\lib\\site-packages (from matplotlib!=3.6.1,>=3.4->seaborn) (1.4.5)\n",
      "Requirement already satisfied: packaging>=20.0 in c:\\users\\varkey joshy t\\appdata\\local\\programs\\python\\python312\\lib\\site-packages (from matplotlib!=3.6.1,>=3.4->seaborn) (24.0)\n",
      "Requirement already satisfied: pillow>=8 in c:\\users\\varkey joshy t\\appdata\\local\\programs\\python\\python312\\lib\\site-packages (from matplotlib!=3.6.1,>=3.4->seaborn) (10.3.0)\n",
      "Requirement already satisfied: pyparsing>=2.3.1 in c:\\users\\varkey joshy t\\appdata\\local\\programs\\python\\python312\\lib\\site-packages (from matplotlib!=3.6.1,>=3.4->seaborn) (3.1.2)\n",
      "Requirement already satisfied: python-dateutil>=2.7 in c:\\users\\varkey joshy t\\appdata\\local\\programs\\python\\python312\\lib\\site-packages (from matplotlib!=3.6.1,>=3.4->seaborn) (2.9.0.post0)\n",
      "Requirement already satisfied: pytz>=2020.1 in c:\\users\\varkey joshy t\\appdata\\local\\programs\\python\\python312\\lib\\site-packages (from pandas>=1.2->seaborn) (2024.1)\n",
      "Requirement already satisfied: tzdata>=2022.7 in c:\\users\\varkey joshy t\\appdata\\local\\programs\\python\\python312\\lib\\site-packages (from pandas>=1.2->seaborn) (2024.1)\n",
      "Requirement already satisfied: six>=1.5 in c:\\users\\varkey joshy t\\appdata\\local\\programs\\python\\python312\\lib\\site-packages (from python-dateutil>=2.7->matplotlib!=3.6.1,>=3.4->seaborn) (1.16.0)\n",
      "Downloading seaborn-0.13.2-py3-none-any.whl (294 kB)\n",
      "   ---------------------------------------- 0.0/294.9 kB ? eta -:--:--\n",
      "   - -------------------------------------- 10.2/294.9 kB ? eta -:--:--\n",
      "   ---- ---------------------------------- 30.7/294.9 kB 435.7 kB/s eta 0:00:01\n",
      "   -------- ------------------------------ 61.4/294.9 kB 469.7 kB/s eta 0:00:01\n",
      "   ------------ -------------------------- 92.2/294.9 kB 581.0 kB/s eta 0:00:01\n",
      "   --------------------- ---------------- 163.8/294.9 kB 817.0 kB/s eta 0:00:01\n",
      "   ------------------------------- ------ 245.8/294.9 kB 942.1 kB/s eta 0:00:01\n",
      "   ---------------------------------------- 294.9/294.9 kB 1.0 MB/s eta 0:00:00\n",
      "Installing collected packages: seaborn\n",
      "Successfully installed seaborn-0.13.2\n",
      "Note: you may need to restart the kernel to use updated packages.\n"
     ]
    },
    {
     "name": "stderr",
     "output_type": "stream",
     "text": [
      "\n",
      "[notice] A new release of pip is available: 24.0 -> 24.1.2\n",
      "[notice] To update, run: python.exe -m pip install --upgrade pip\n"
     ]
    }
   ],
   "source": [
    "pip install seaborn"
   ]
  },
  {
   "cell_type": "code",
   "execution_count": 19,
   "id": "0576cfcd-f9a6-44db-8c72-40b6212514f1",
   "metadata": {},
   "outputs": [
    {
     "data": {
      "image/png": "[encoded data removed]",
      "text/plain": [
       "<Figure size 800x600 with 1 Axes>"
      ]
     },
     "metadata": {},
     "output_type": "display_data"
    }
   ],
   "source": [
    "import matplotlib.pyplot as plt\n",
    "import seaborn as sns\n",
    "\n",
    "plt.figure(figsize=(8, 6))\n",
    "sns.scatterplot(data=df, x='Age', y='Salary')\n",
    "plt.title('Correlation Between Age and Salary')\n",
    "plt.xlabel('Age')\n",
    "plt.ylabel('Salary')\n",
    "plt.show()\n"
   ]
  }
 ],
 "metadata": {
  "kernelspec": {
   "display_name": "Python 3 (ipykernel)",
   "language": "python",
   "name": "python3"
  },
  "language_info": {
   "codemirror_mode": {
    "name": "ipython",
    "version": 3
   },
   "file_extension": ".py",
   "mimetype": "text/x-python",
   "name": "python",
   "nbconvert_exporter": "python",
   "pygments_lexer": "ipython3",
   "version": "3.12.2"
  }
 },
 "nbformat": 4,
 "nbformat_minor": 5
}
